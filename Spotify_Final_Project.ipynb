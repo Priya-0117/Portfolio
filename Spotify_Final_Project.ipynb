{
  "cells": [
    {
      "cell_type": "markdown",
      "metadata": {
        "id": "view-in-github",
        "colab_type": "text"
      },
      "source": [
        "<a href=\"https://colab.research.google.com/github/Priya-0117/Portfolio/blob/main/Spotify_Final_Project.ipynb\" target=\"_parent\"><img src=\"https://colab.research.google.com/assets/colab-badge.svg\" alt=\"Open In Colab\"/></a>"
      ]
    },
    {
      "cell_type": "markdown",
      "metadata": {
        "id": "qmaaWBKiDFzr"
      },
      "source": [
        "# This template is used for discussion of the project\n",
        "\n",
        "### Your team should be using this cell to:\n",
        "* Provide a business description of what your project does (not just listing the functions you created)\n",
        "* Lists the team members who worked on the project - THIS SHOULD BE AT THE END OF THE PROJECT, AFTER TEAM MEMBERS HAVE MADE A CONTRIBUTION. This should agree with the form your team submits at the end with the effort level by team members.\n",
        "* Describes the data you are using, and ideally provides a link to the website where you can get the data or the tools used to get the data.\n",
        "* If you are bringing in other modules, where you intoduce them, include a link to documentation.\n",
        "\n",
        "###The top of the project should then:\n",
        "* Install the spotipy module in its own cell\n",
        "* Do any imports you need throughout the project.  This will allow you to run this one cell if you need to add an import or use an import someone else on the team is already importing.\n",
        "\n",
        "**NOTE ON USING MARKDOWN:** The use of headers in Markdown (# starts a \"header 1\" HTML tag, ## starts a \"header 2\" HTML tag, etc. up to 6 levels.  Use levels consistently and Colab will build an indented table of contents for you in the toolbar on the left (the bullet list icon)."
      ]
    },
    {
      "cell_type": "markdown",
      "metadata": {
        "id": "sGU_CZm7I814"
      },
      "source": [
        "The name of your team:\n",
        "\n",
        "**The Beginners**\n",
        "\n",
        "The names of team members who participated:\n",
        "\n",
        "*   Yung-Ching Chang\n",
        "*   Jasmine Du\n",
        "*   Khushi Khasgiwala\n",
        "*   Sathvika Chakka\n",
        "\n",
        "\n",
        "\n"
      ]
    },
    {
      "cell_type": "markdown",
      "metadata": {
        "id": "VUowAbCNRS4m"
      },
      "source": [
        "# Setup\n"
      ]
    },
    {
      "cell_type": "markdown",
      "source": [
        "\n",
        "\n",
        "####installing spotify\n",
        "\n"
      ],
      "metadata": {
        "id": "isH5-n_OHXFV"
      }
    },
    {
      "cell_type": "code",
      "execution_count": null,
      "metadata": {
        "colab": {
          "base_uri": "https://localhost:8080/"
        },
        "id": "Nlz3GAAcDCXW",
        "outputId": "233861f8-4746-4cfb-e143-5b485b2e5156"
      },
      "outputs": [
        {
          "output_type": "stream",
          "name": "stdout",
          "text": [
            "Looking in indexes: https://pypi.org/simple, https://us-python.pkg.dev/colab-wheels/public/simple/\n",
            "Requirement already satisfied: spotipy in /usr/local/lib/python3.10/dist-packages (2.23.0)\n",
            "Requirement already satisfied: redis>=3.5.3 in /usr/local/lib/python3.10/dist-packages (from spotipy) (4.5.5)\n",
            "Requirement already satisfied: requests>=2.25.0 in /usr/local/lib/python3.10/dist-packages (from spotipy) (2.27.1)\n",
            "Requirement already satisfied: six>=1.15.0 in /usr/local/lib/python3.10/dist-packages (from spotipy) (1.16.0)\n",
            "Requirement already satisfied: urllib3>=1.26.0 in /usr/local/lib/python3.10/dist-packages (from spotipy) (1.26.15)\n",
            "Requirement already satisfied: async-timeout>=4.0.2 in /usr/local/lib/python3.10/dist-packages (from redis>=3.5.3->spotipy) (4.0.2)\n",
            "Requirement already satisfied: certifi>=2017.4.17 in /usr/local/lib/python3.10/dist-packages (from requests>=2.25.0->spotipy) (2022.12.7)\n",
            "Requirement already satisfied: charset-normalizer~=2.0.0 in /usr/local/lib/python3.10/dist-packages (from requests>=2.25.0->spotipy) (2.0.12)\n",
            "Requirement already satisfied: idna<4,>=2.5 in /usr/local/lib/python3.10/dist-packages (from requests>=2.25.0->spotipy) (3.4)\n"
          ]
        }
      ],
      "source": [
        "pip install spotipy"
      ]
    },
    {
      "cell_type": "markdown",
      "source": [
        "\n",
        "\n",
        "#### all imports\n"
      ],
      "metadata": {
        "id": "DHXDRa4vHj2l"
      }
    },
    {
      "cell_type": "code",
      "execution_count": null,
      "metadata": {
        "id": "vpE8dfieCvgc"
      },
      "outputs": [],
      "source": [
        "import getpass\n",
        "import spotipy\n",
        "from spotipy.oauth2 import SpotifyClientCredentials\n",
        "import pprint\n",
        "pp = pprint.PrettyPrinter(indent=4, width=80)"
      ]
    },
    {
      "cell_type": "markdown",
      "metadata": {
        "id": "sqqOJfhzTDts"
      },
      "source": [
        "# get_spotify\n",
        "\n",
        "**Programming Notes:**\n",
        "* prompts for the users id and secret\n",
        "* if the input is invalid, gives user 3 more tries to input their client id and secret."
      ]
    },
    {
      "cell_type": "code",
      "execution_count": null,
      "metadata": {
        "id": "YpPDv2kUTWM8"
      },
      "outputs": [],
      "source": [
        "def get_spotify():\n",
        "    for tries in range(1,4):\n",
        "        try:\n",
        "            client_id = input(\"Please enter your Client ID: \")\n",
        "            client_secret = getpass.getpass (\"Please enter your Client Secret: \")\n",
        "\n",
        "            client_credentials_manager = SpotifyClientCredentials(client_id=client_id, client_secret=client_secret)\n",
        "            sp = spotipy.Spotify(client_credentials_manager = client_credentials_manager)\n",
        "\n",
        "            sp.available_markets()\n",
        "            return sp\n",
        "\n",
        "        except spotipy.oauth2.SpotifyOauthError as ex:\n",
        "            print(f\"Attempt {tries} of 3: Unable to connect to Spotify. \"\n",
        "            \"Please check your Client ID and Client Secret.\")\n",
        "    print(\"After 3 tries unable to connect.\")\n",
        "    return None"
      ]
    },
    {
      "cell_type": "markdown",
      "metadata": {
        "id": "5jbJQyfpcDs1"
      },
      "source": [
        "# get_categories\n",
        "\n",
        "*   Prints out all the category names to the user\n",
        "*   Collects input for two categories and gives out their ids\n",
        "\n",
        "\n",
        "\n",
        "\n",
        "\n"
      ]
    },
    {
      "cell_type": "code",
      "execution_count": null,
      "metadata": {
        "id": "tM5RWR92IhXd"
      },
      "outputs": [],
      "source": [
        "import pprint\n",
        "def get_categories(sp):\n",
        "    categories = sp.categories(limit=50)['categories']['items']\n",
        "\n",
        "    while True:\n",
        "        next_categories = sp.categories(limit=50, offset=len(categories))['categories']['items']\n",
        "        if not next_categories:\n",
        "            break\n",
        "        categories.extend(next_categories)\n",
        "\n",
        "    categories = sorted(categories, key=lambda c: c['name'])\n",
        "\n",
        "    print('Spotify categories to select from:')\n",
        "    for i in range(0, len(categories), 5):\n",
        "        row_categories = categories[i:i+5]\n",
        "        row_names = [c['name'] for c in row_categories]\n",
        "        row_names += [''] * (5 - len(row_names))  # Fill the rest with empty strings\n",
        "        print(\"{:<25} {:<25} {:<25} {:<25} {:<25}\".format(*row_names))\n",
        "    print(\"\")\n",
        "\n",
        "    while True:\n",
        "        first_category_name = input(\"Enter first category name:\").lower()\n",
        "        matching_categories = [c for c in categories if c['name'].lower() == first_category_name]\n",
        "        if len(matching_categories) == 1:\n",
        "            first_category_id = matching_categories[0]['id']\n",
        "            break\n",
        "        else:\n",
        "            print(\"Invalid category name. Please enter a valid category name.\")\n",
        "\n",
        "    while True:\n",
        "        second_category_name = input(\"Enter second category name:\").lower()\n",
        "        matching_categories = [c for c in categories if c['name'].lower() == second_category_name]\n",
        "        if len(matching_categories) == 1:\n",
        "            second_category_id = matching_categories[0]['id']\n",
        "            break\n",
        "        else:\n",
        "            print(\"Invalid category name. Please enter a valid category name.\")\n",
        "    try:\n",
        "        sp.category(first_category_id)\n",
        "        sp.category(second_category_id)\n",
        "    except:\n",
        "        print('Invalid category ID. Please try again.')\n",
        "        return get_categories(sp)\n",
        "\n",
        "    category_selected = {first_category_name: first_category_id, second_category_name: second_category_id}\n",
        "    print(category_selected)\n",
        "    return category_selected"
      ]
    },
    {
      "cell_type": "markdown",
      "metadata": {
        "id": "-hC0VzlLQyNh"
      },
      "source": [
        "# category_id"
      ]
    },
    {
      "cell_type": "code",
      "execution_count": null,
      "metadata": {
        "id": "AjJmr3OBQ1Yd"
      },
      "outputs": [],
      "source": [
        "def get_category_id(sp):\n",
        "    categories = sp.categories(limit=50, country='US')['categories']['items']\n",
        "    for i, category in enumerate(categories):\n",
        "        print(f\"{i}: {category['name']}\")\n",
        "    choice = int(input(\"Enter the number of the category you want to process: \"))\n",
        "    return categories[choice]['id']"
      ]
    },
    {
      "cell_type": "markdown",
      "metadata": {
        "id": "uQAPpQ723XTQ"
      },
      "source": [
        "###get_playlists\n",
        "\n",
        "* the parameters sp and playlist_id are the signatures of the function\n",
        "* the playlists from the two categories are retrived and the total number of followers, tracks, id, and name are returned."
      ]
    },
    {
      "cell_type": "code",
      "execution_count": null,
      "metadata": {
        "id": "rxquI5IKQ79z"
      },
      "outputs": [],
      "source": [
        "def get_playlists(sp, playlist_id):\n",
        "    playlist = sp.playlist(playlist_id)\n",
        "    get_playlist = {\n",
        "        'id': playlist['id'],\n",
        "        'name': playlist['name'],\n",
        "        'followers': playlist['followers']['total'],\n",
        "        'total_tracks': playlist['tracks']['total']\n",
        "    }\n",
        "    return get_playlist"
      ]
    },
    {
      "cell_type": "markdown",
      "metadata": {
        "id": "1Ss8ZYIb4Ij8"
      },
      "source": [
        "###process_tracks\n",
        "*   Called by process_category\n",
        "*   Gives out avg duration, avg explicit, and avg popularity for a particular playlist\n",
        "\n",
        "\n"
      ]
    },
    {
      "cell_type": "code",
      "execution_count": null,
      "metadata": {
        "id": "UVbV3THULnVx"
      },
      "outputs": [],
      "source": [
        "def process_tracks(sp, playlist_id):\n",
        "    tracks = sp.playlist_tracks(playlist_id)\n",
        "    total_duration = 0\n",
        "    total_explicitness = 0\n",
        "    total_popularity = 0\n",
        "    track_count = 0\n",
        "    for track in tracks['items']:\n",
        "        if track['track'] is not None:\n",
        "            total_duration += track['track'].get('duration_ms', 0)\n",
        "            total_explicitness += int(track['track'].get('explicit', False))\n",
        "            total_popularity += track['track'].get('popularity', 0)\n",
        "            track_count += 1\n",
        "    avg_duration = total_duration / track_count if track_count > 0 else 0\n",
        "    avg_explicitness = total_explicitness / track_count if track_count > 0 else 0\n",
        "    avg_popularity = total_popularity / track_count if track_count > 0 else 0\n",
        "    return {\n",
        "        'avg_duration': avg_duration,\n",
        "        'avg_explicit': avg_explicitness,\n",
        "        'avg_popularity': avg_popularity\n",
        "    }"
      ]
    },
    {
      "cell_type": "markdown",
      "metadata": {
        "id": "kkGfDdvNOUwP"
      },
      "source": [
        "# process_category"
      ]
    },
    {
      "cell_type": "markdown",
      "source": [
        "* calls get_playlists and process_tracks\n",
        "* parameters are sp and category_id of each selected category\n",
        "* returns id, name, total tracks, followers, average duration, average explicit, and average popularity for each playlist and tracks in the selected category"
      ],
      "metadata": {
        "id": "9rRU74M-M4pm"
      }
    },
    {
      "cell_type": "code",
      "execution_count": null,
      "metadata": {
        "id": "zfg87ZsXiUbC"
      },
      "outputs": [],
      "source": [
        "def process_category(sp, category_id):\n",
        "    playlists_response = sp.category_playlists(category_id=category_id, country='US', limit=50, offset=0)\n",
        "    playlists = playlists_response['playlists']['items']\n",
        "\n",
        "    processed_playlists = []\n",
        "\n",
        "    # For each playlist, get the total number of tracks and followers\n",
        "    for playlist in playlists:\n",
        "        if playlist is None:\n",
        "            continue\n",
        "        try:\n",
        "            playlist_details = sp.playlist(playlist['id'])\n",
        "            track_stats = process_tracks(sp, playlist['id'])\n",
        "            processed_playlists.append({\n",
        "                'id': playlist['id'],\n",
        "                'name': playlist['name'],\n",
        "                'total_tracks': playlist_details['tracks']['total'],\n",
        "                'followers': playlist_details['followers']['total'],\n",
        "                'avg_duration': track_stats['avg_duration'],\n",
        "                'avg_explicit': track_stats['avg_explicit'],\n",
        "                'avg_popularity': track_stats['avg_popularity'],\n",
        "            })\n",
        "        except TypeError:\n",
        "            print(f\"Error processing playlist: {playlist}\")\n",
        "            continue\n",
        "    return processed_playlists"
      ]
    },
    {
      "cell_type": "markdown",
      "metadata": {
        "id": "7-8QyQVLBday"
      },
      "source": [
        "#compare_categories\n",
        "* uses categories_data as its parameter\n",
        "* takes the data from process_category and returns it as 5 box plots including two categories in each graph.\n"
      ]
    },
    {
      "cell_type": "code",
      "execution_count": null,
      "metadata": {
        "id": "zPIhpC7qfdIw"
      },
      "outputs": [],
      "source": [
        "import matplotlib.pyplot as plt\n",
        "import seaborn as sns"
      ]
    },
    {
      "cell_type": "code",
      "execution_count": null,
      "metadata": {
        "id": "QG70Jx2vBdFG"
      },
      "outputs": [],
      "source": [
        "def compare_categories(categories_data):\n",
        "    category = []\n",
        "    explicit = []\n",
        "    followers = []\n",
        "    duration = []\n",
        "    popularity = []\n",
        "    tracks = []\n",
        "\n",
        "    for category_name, playlist_list in categories_data.items():\n",
        "        for playlist in playlist_list:\n",
        "            category.append(category_name)\n",
        "            tracks.append(playlist.get('total_tracks', 0))\n",
        "            followers.append(playlist.get('followers', 0))\n",
        "            duration.append(playlist.get('avg_duration', 0))\n",
        "            popularity.append(playlist.get('avg_popularity', 0))\n",
        "            explicit.append(playlist.get('avg_explicit', 0))\n",
        "\n",
        "    plt.figure()\n",
        "    sns.boxplot(x=category, y=tracks)\n",
        "    plt.figure()\n",
        "    sns.boxplot(x=category, y=followers)\n",
        "    plt.figure()\n",
        "    sns.boxplot(x=category, y=duration)\n",
        "    plt.figure()\n",
        "    sns.boxplot(x=category, y=popularity)\n",
        "    plt.figure()\n",
        "    sns.boxplot(x=category, y=explicit)\n",
        "\n",
        "    plt.show()\n"
      ]
    },
    {
      "cell_type": "markdown",
      "source": [
        "* data of both categories is combined into one dictionary"
      ],
      "metadata": {
        "id": "yAZNuDMVN_4l"
      }
    },
    {
      "cell_type": "code",
      "source": [
        "category1_data = process_category(sp, category1_id)\n",
        "category2_data = process_category(sp, category2_id)\n",
        "\n",
        "# Combine the data into a dictionary\n",
        "categories_data = {\n",
        "    category1_name: category1_data,\n",
        "    category2_name: category2_data,\n",
        "}"
      ],
      "metadata": {
        "id": "ocFB03WPA_lk"
      },
      "execution_count": null,
      "outputs": []
    },
    {
      "cell_type": "markdown",
      "metadata": {
        "id": "0br5XCBtbV2s"
      },
      "source": [
        "# Main Program\n"
      ]
    },
    {
      "cell_type": "markdown",
      "source": [
        "### Prompt user to enter their client ID and client Secret"
      ],
      "metadata": {
        "id": "wszQDd_uQmBW"
      }
    },
    {
      "cell_type": "code",
      "execution_count": null,
      "metadata": {
        "colab": {
          "base_uri": "https://localhost:8080/"
        },
        "id": "eL4niA1jLvbX",
        "outputId": "58a01bb4-0cce-4260-d7c7-16659c7c30a5"
      },
      "outputs": [
        {
          "name": "stdout",
          "output_type": "stream",
          "text": [
            "Please enter your Client ID: 1820a50b999e46d99d20e6ba059348f6\n",
            "Please enter your Client Secret: ··········\n"
          ]
        }
      ],
      "source": [
        "sp = get_spotify()\n",
        "if sp is not None:\n",
        "    sp.categories()"
      ]
    },
    {
      "cell_type": "markdown",
      "metadata": {
        "id": "O3a0qpGg7I7F"
      },
      "source": [
        "\n",
        "### Select two categories\n",
        "*   prints a list of categories for the user to select from.\n",
        "* user can select two categories\n"
      ]
    },
    {
      "cell_type": "code",
      "execution_count": null,
      "metadata": {
        "colab": {
          "base_uri": "https://localhost:8080/"
        },
        "id": "7Qje_xpqHtzl",
        "outputId": "f30afcc5-0f73-4cb0-cbc3-bc91abae5ade"
      },
      "outputs": [
        {
          "output_type": "stream",
          "name": "stdout",
          "text": [
            "Spotify categories to select from:\n",
            "Afro                      Alternative               Ambient                   Anime                     Arab                     \n",
            "Blues                     Caribbean                 Chill                     Christian & Gospel        Classical                \n",
            "Comedy                    Cooking & Dining          Country                   Dance/Electronic          Decades                  \n",
            "Desi                      EQUAL                     Focus                     Folk & Acoustic           Frequency                \n",
            "Fresh Finds               Funk & Disco              Gaming                    Hip-Hop                   In the car               \n",
            "Indie                     Instrumental              Jazz                      K-Pop                     Kids & Family            \n",
            "Latin                     Metal                     Mood                      Netflix                   Party                    \n",
            "Pop                       Pop culture               Pride                     Punk                      R&B                      \n",
            "RADAR                     Regional Mexican          Rock                      Romance                   Sleep                    \n",
            "Soul                      Sports                    Spotify Singles           Student                   Summer                   \n",
            "Tastemakers               Top Lists                 Wellness                  Workout                   theLINER                 \n",
            "\n",
            "Enter first category name:Arab\n",
            "Enter second category name:In the car\n",
            "{'arab': '0JQ5DAqbMKFQ1UFISXj59F', 'in the car': 'in_the_car'}\n"
          ]
        }
      ],
      "source": [
        "category_selected = get_categories(sp)"
      ]
    },
    {
      "cell_type": "code",
      "execution_count": null,
      "metadata": {
        "colab": {
          "base_uri": "https://localhost:8080/"
        },
        "id": "ZoA2ikGP8mYJ",
        "outputId": "b0efedd6-8cc6-4160-c499-00582ce620b0"
      },
      "outputs": [
        {
          "output_type": "stream",
          "name": "stdout",
          "text": [
            "0JQ5DAqbMKFQ1UFISXj59F\n",
            "in_the_car\n",
            "arab\n",
            "in the car\n"
          ]
        }
      ],
      "source": [
        "category_ids = list(category_selected.values())\n",
        "category_names = list(category_selected.keys())\n",
        "\n",
        "category1_id = category_ids[0]\n",
        "print(category1_id)\n",
        "\n",
        "category2_id = category_ids[1]\n",
        "print(category2_id)\n",
        "\n",
        "category1_name = category_names[0]\n",
        "print(category1_name)\n",
        "\n",
        "category2_name = category_names[1]\n",
        "print(category2_name)"
      ]
    },
    {
      "cell_type": "markdown",
      "source": [
        "### Compares playlist data within the two selected categories"
      ],
      "metadata": {
        "id": "a7rrxqbsQsch"
      }
    },
    {
      "cell_type": "markdown",
      "metadata": {
        "id": "R0cd60-uN2fG"
      },
      "source": [
        "\n",
        "\n",
        "* the playlists of the two categories selected by the user is retrived\n",
        "* the data of the playlist is condensed and displayed\n",
        "* the display is a comparasion of the number of tracks, followers, duration, popularity, and explicity of the playlists.\n",
        "\n"
      ]
    },
    {
      "cell_type": "code",
      "execution_count": null,
      "metadata": {
        "id": "RoTMGPjBSNRR",
        "colab": {
          "base_uri": "https://localhost:8080/",
          "height": 1000
        },
        "outputId": "42003938-fd39-45e4-86a5-a8a40ddffc20"
      },
      "outputs": [
        {
          "output_type": "display_data",
          "data": {
            "text/plain": [
              "<Figure size 640x480 with 1 Axes>"
            ],
            "image/png": "[encoded data removed]"
          },
          "metadata": {}
        },
        {
          "output_type": "display_data",
          "data": {
            "text/plain": [
              "<Figure size 640x480 with 1 Axes>"
            ],
            "image/png": "[encoded data removed]"
          },
          "metadata": {}
        },
        {
          "output_type": "display_data",
          "data": {
            "text/plain": [
              "<Figure size 640x480 with 1 Axes>"
            ],
            "image/png": "[encoded data removed]"
          },
          "metadata": {}
        },
        {
          "output_type": "display_data",
          "data": {
            "text/plain": [
              "<Figure size 640x480 with 1 Axes>"
            ],
            "image/png": "[encoded data removed]"
          },
          "metadata": {}
        },
        {
          "output_type": "display_data",
          "data": {
            "text/plain": [
              "<Figure size 640x480 with 1 Axes>"
            ],
            "image/png": "[encoded data removed]"
          },
          "metadata": {}
        }
      ],
      "source": [
        "# Now you can call compare_categories\n",
        "compare_categories(categories_data)"
      ]
    }
  ],
  "metadata": {
    "colab": {
      "provenance": [],
      "include_colab_link": true
    },
    "kernelspec": {
      "display_name": "Python 3",
      "name": "python3"
    },
    "language_info": {
      "name": "python"
    }
  },
  "nbformat": 4,
  "nbformat_minor": 0
}